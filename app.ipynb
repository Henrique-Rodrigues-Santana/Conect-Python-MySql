{
 "cells": [
  {
   "cell_type": "markdown",
   "metadata": {},
   "source": [
    "# Conectando o Python ao MySql."
   ]
  },
  {
   "cell_type": "markdown",
   "metadata": {},
   "source": [
    "##### Intalando Biblioteca:\n",
    "\n",
    "`pip install mysql-connector-pyhton`"
   ]
  },
  {
   "cell_type": "markdown",
   "metadata": {},
   "source": [
    "#### Importando Biblioteca e configurando conexão."
   ]
  },
  {
   "cell_type": "code",
   "execution_count": 3,
   "metadata": {},
   "outputs": [
    {
     "name": "stdout",
     "output_type": "stream",
     "text": [
      "<mysql.connector.connection_cext.CMySQLConnection object at 0x00000270034BC200>\n"
     ]
    }
   ],
   "source": [
    "import mysql.connector\n",
    "\n",
    "banco = mysql.connector.connect(\n",
    "    host = \"localhost\",\n",
    "    user = \"root\",\n",
    "    password = \"\",\n",
    "    database = \"dados\"\n",
    "\n",
    ")\n",
    "\n",
    "print(banco)"
   ]
  },
  {
   "cell_type": "markdown",
   "metadata": {},
   "source": [
    "#### Criando o cursor e executando comando para criação do banco de dados."
   ]
  },
  {
   "cell_type": "markdown",
   "metadata": {},
   "source": [
    "###### Aqui há de ficar atento, porquer o método CREATE DATABASE só pode ser acionado na hora da criação do banco de dados, logo, o campo database da tupla 'banco', só pode ser chamado apos a criação, normalmente esses campos são criados antes do desenvolvimento do app, o comando está ai apenas pada efeito demonstrativo, não é uma prática recorrente."
   ]
  },
  {
   "cell_type": "code",
   "execution_count": 6,
   "metadata": {},
   "outputs": [],
   "source": [
    "cursor = banco.cursor()\n",
    "\n",
    "cursor.execute(\"CREATE DATABASE dados \")"
   ]
  },
  {
   "cell_type": "markdown",
   "metadata": {},
   "source": [
    "#### Agora vamos criar as tabelas."
   ]
  },
  {
   "cell_type": "code",
   "execution_count": 7,
   "metadata": {},
   "outputs": [],
   "source": [
    "cursor.execute(\"CREATE TABLE pessoas(nome VARCHAR(211), idade INT, rg INT)\")\n",
    "\n",
    "banco.commit()"
   ]
  },
  {
   "cell_type": "markdown",
   "metadata": {},
   "source": [
    "#### Inserindo dados na tabela."
   ]
  },
  {
   "cell_type": "code",
   "execution_count": 14,
   "metadata": {},
   "outputs": [],
   "source": [
    "comando_sql = \"INSERT INTO pessoas(nome, idade, rg) VALUES(%s,%s,%s)\"\n",
    "dados = ('manuel',45,7882242211)\n",
    "\n",
    "cursor.execute(comando_sql,dados)\n",
    "banco.commit()"
   ]
  },
  {
   "cell_type": "markdown",
   "metadata": {},
   "source": [
    "#### Agora vamos ler os dados do Banco\n",
    "##### `valores_lidos` vai receber um arry de objetos, onde podemos selecionar apenas o que queremos ou exibir todos"
   ]
  },
  {
   "cell_type": "code",
   "execution_count": 17,
   "metadata": {},
   "outputs": [
    {
     "name": "stdout",
     "output_type": "stream",
     "text": [
      "('Maria', 26, 2147483647)\n"
     ]
    }
   ],
   "source": [
    "comando_sql = \"SELECT * FROM pessoas\"\n",
    "\n",
    "cursor.execute(comando_sql)\n",
    "\n",
    "valores_lidos = cursor.fetchall()\n",
    "print(valores_lidos[0])\n"
   ]
  },
  {
   "cell_type": "markdown",
   "metadata": {},
   "source": [
    "#### Selecionando um dado expecifico do banco de dados.\n"
   ]
  },
  {
   "cell_type": "code",
   "execution_count": 24,
   "metadata": {},
   "outputs": [
    {
     "name": "stdout",
     "output_type": "stream",
     "text": [
      "[(38,), (45,)]\n"
     ]
    }
   ],
   "source": [
    "comando_sql = \"SELECT idade FROM pessoas  \"\n",
    "\n",
    "cursor.execute(comando_sql)\n",
    "\n",
    "valores_lidos = cursor.fetchall()\n",
    "print(valores_lidos)"
   ]
  },
  {
   "cell_type": "markdown",
   "metadata": {},
   "source": [
    "#### Excluindo dados do Banco."
   ]
  },
  {
   "cell_type": "code",
   "execution_count": 23,
   "metadata": {},
   "outputs": [
    {
     "name": "stdout",
     "output_type": "stream",
     "text": [
      "[]\n"
     ]
    }
   ],
   "source": [
    "comando_sql = \"DELETE FROM pessoas WHERE idade < 30\"\n",
    "\n",
    "cursor.execute(comando_sql)\n",
    "valores_lidos = cursor.fetchall()\n",
    "print(valores_lidos)\n",
    "banco.commit()"
   ]
  }
 ],
 "metadata": {
  "kernelspec": {
   "display_name": "cp",
   "language": "python",
   "name": "python3"
  },
  "language_info": {
   "codemirror_mode": {
    "name": "ipython",
    "version": 3
   },
   "file_extension": ".py",
   "mimetype": "text/x-python",
   "name": "python",
   "nbconvert_exporter": "python",
   "pygments_lexer": "ipython3",
   "version": "3.12.3"
  }
 },
 "nbformat": 4,
 "nbformat_minor": 2
}
